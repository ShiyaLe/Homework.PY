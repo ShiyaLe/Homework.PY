{
  "nbformat": 4,
  "nbformat_minor": 0,
  "metadata": {
    "colab": {
      "name": "Untitled1.ipynb",
      "provenance": [],
      "authorship_tag": "ABX9TyMMfiiagm0WgegTfY0HFhcG",
      "include_colab_link": true
    },
    "kernelspec": {
      "name": "python3",
      "display_name": "Python 3"
    },
    "language_info": {
      "name": "python"
    }
  },
  "cells": [
    {
      "cell_type": "markdown",
      "metadata": {
        "id": "view-in-github",
        "colab_type": "text"
      },
      "source": [
        "<a href=\"https://colab.research.google.com/github/ShiyaLe/Homework.PY/blob/master/Untitled1.ipynb\" target=\"_parent\"><img src=\"https://colab.research.google.com/assets/colab-badge.svg\" alt=\"Open In Colab\"/></a>"
      ]
    },
    {
      "cell_type": "markdown",
      "metadata": {
        "id": "FDGgotCGTF_G"
      },
      "source": [
        "*`1`*. Write a Python program to sum all the items in a list. (sum() function) *italicized text*"
      ]
    },
    {
      "cell_type": "code",
      "metadata": {
        "colab": {
          "base_uri": "https://localhost:8080/"
        },
        "id": "zwsxPjwUReYy",
        "outputId": "74f36d02-a13e-42ae-a10a-6767058d0c45"
      },
      "source": [
        "numbers = [1, 2, 3, 4, 5]\n",
        "numbers_sum = sum(numbers)\n",
        "print(numbers_sum)"
      ],
      "execution_count": null,
      "outputs": [
        {
          "output_type": "stream",
          "name": "stdout",
          "text": [
            "15\n"
          ]
        }
      ]
    },
    {
      "cell_type": "markdown",
      "metadata": {
        "id": "TVwYjpAyS7CY"
      },
      "source": [
        "2. Write a Python program to multiply all the items in a list. (math.prod() function)"
      ]
    },
    {
      "cell_type": "code",
      "metadata": {
        "colab": {
          "base_uri": "https://localhost:8080/"
        },
        "id": "vibNxMaPTBjG",
        "outputId": "bf7b1d3b-920e-4898-9c19-32c4a2ff6b1c"
      },
      "source": [
        "#Import Math hoạt động với Python 3.8+ nhưng google colab chạy bản 3.7.12 nên không dùng được ạ\n",
        "\n",
        "import math\n",
        "\n",
        "numbers = [1, 2, 3, 4, 5]\n",
        "numbers_prod = math.prod(numbers)\n",
        "print(numbers_prod)\n",
        "\n"
      ],
      "execution_count": null,
      "outputs": [
        {
          "output_type": "stream",
          "name": "stdout",
          "text": [
            "5\n"
          ]
        }
      ]
    },
    {
      "cell_type": "markdown",
      "metadata": {
        "id": "mZeYIAJyUXPw"
      },
      "source": [
        "3. Write a Python program to get the largest number from a list. (max() function)"
      ]
    },
    {
      "cell_type": "code",
      "metadata": {
        "colab": {
          "base_uri": "https://localhost:8080/"
        },
        "id": "U0p4BS-5UYgf",
        "outputId": "fed5b22a-00cd-43f5-9818-b8598020005c"
      },
      "source": [
        "numbers = [1, 2, 3, 4, 5]\n",
        "numbers_max = max(numbers)\n",
        "print(numbers_max)"
      ],
      "execution_count": null,
      "outputs": [
        {
          "output_type": "stream",
          "name": "stdout",
          "text": [
            "5\n"
          ]
        }
      ]
    },
    {
      "cell_type": "markdown",
      "metadata": {
        "id": "Kt3dqjwFUl8Y"
      },
      "source": [
        "4. Write a Python program to get the smallest number from a list. (min() function)"
      ]
    },
    {
      "cell_type": "code",
      "metadata": {
        "colab": {
          "base_uri": "https://localhost:8080/"
        },
        "id": "BryUT_31Um-_",
        "outputId": "9150c249-cbdd-4692-a276-68b0f22b4e54"
      },
      "source": [
        "numbers = [1, 2, 3, 4, 5]\n",
        "numbers_min = min(numbers)\n",
        "print(numbers_min)"
      ],
      "execution_count": null,
      "outputs": [
        {
          "output_type": "stream",
          "name": "stdout",
          "text": [
            "1\n"
          ]
        }
      ]
    },
    {
      "cell_type": "markdown",
      "metadata": {
        "id": "x8Rd-qyZVDQe"
      },
      "source": [
        " 5. Write a Python program to sort a list in descending order (sort() function)"
      ]
    },
    {
      "cell_type": "code",
      "metadata": {
        "colab": {
          "base_uri": "https://localhost:8080/"
        },
        "id": "5rpxidOeVD5_",
        "outputId": "7081367d-e94c-423d-af22-a7a826975e2e"
      },
      "source": [
        "numbers = [1, 3, 5, 4, 2]\n",
        "numbers_sorted = sorted(numbers, reverse = True)\n",
        "print(numbers_sorted)"
      ],
      "execution_count": null,
      "outputs": [
        {
          "output_type": "stream",
          "name": "stdout",
          "text": [
            "[5, 4, 3, 2, 1]\n"
          ]
        }
      ]
    },
    {
      "cell_type": "markdown",
      "metadata": {
        "id": "Olw91lfWVaun"
      },
      "source": [
        "6. Write a Python program to sort a list in ascending order (sort() function)"
      ]
    },
    {
      "cell_type": "code",
      "metadata": {
        "colab": {
          "base_uri": "https://localhost:8080/"
        },
        "id": "1TUpzt1NVbco",
        "outputId": "9de5e79e-bf2b-4748-ee3d-79662ca60245"
      },
      "source": [
        "numbers = [1, 3, 5, 4, 2]\n",
        "numbers_sorted = sorted(numbers, reverse = False)\n",
        "print(numbers_sorted)"
      ],
      "execution_count": null,
      "outputs": [
        {
          "output_type": "stream",
          "name": "stdout",
          "text": [
            "[1, 2, 3, 4, 5]\n"
          ]
        }
      ]
    },
    {
      "cell_type": "markdown",
      "metadata": {
        "id": "BIkNyhCpVkxY"
      },
      "source": [
        "7. Write a Python program to get the size of a list (len() function)"
      ]
    },
    {
      "cell_type": "code",
      "metadata": {
        "colab": {
          "base_uri": "https://localhost:8080/"
        },
        "id": "89PbMuHYVlV_",
        "outputId": "701cf2b3-3bc8-44ff-8484-1b3d43b7fb52"
      },
      "source": [
        "numbers = [ '1', 3, \"haha\", 4, 2]\n",
        "numbers_len = len(numbers)\n",
        "print(numbers_len)"
      ],
      "execution_count": null,
      "outputs": [
        {
          "output_type": "stream",
          "name": "stdout",
          "text": [
            "5\n"
          ]
        }
      ]
    },
    {
      "cell_type": "markdown",
      "metadata": {
        "id": "qM7rwkIGV9jp"
      },
      "source": [
        "8. Write a Python program to get random element(s) of a list (random.choice() function)"
      ]
    },
    {
      "cell_type": "code",
      "metadata": {
        "colab": {
          "base_uri": "https://localhost:8080/"
        },
        "id": "UZnYMwbyV-Qn",
        "outputId": "19ccd7cb-198a-42bf-b515-ed7633aac82d"
      },
      "source": [
        "import random\n",
        "numbers = [1, '4', 5, \"haha\", 2]\n",
        "numbers_random = random.choice(numbers)\n",
        "print(numbers_random)"
      ],
      "execution_count": 42,
      "outputs": [
        {
          "output_type": "stream",
          "name": "stdout",
          "text": [
            "haha\n"
          ]
        }
      ]
    },
    {
      "cell_type": "markdown",
      "metadata": {
        "id": "0WjIutkdXP1Y"
      },
      "source": [
        " 9. Write a Python program to join two different lists into one (use + or extend() function)\n"
      ]
    },
    {
      "cell_type": "code",
      "metadata": {
        "colab": {
          "base_uri": "https://localhost:8080/"
        },
        "id": "yV4Y9qHWXQZw",
        "outputId": "aa433028-905c-4e83-ca10-5ae081cf4925"
      },
      "source": [
        "list1 = [1, 2, 3, 4, 5]\n",
        "list2 = ['a', 'b', 'c', 6, 'e']\n",
        "list1.extend(list2)\n",
        "print(list1)"
      ],
      "execution_count": 43,
      "outputs": [
        {
          "output_type": "stream",
          "name": "stdout",
          "text": [
            "[1, 2, 3, 4, 5, 'a', 'b', 'c', 6, 'e']\n"
          ]
        }
      ]
    }
  ]
}